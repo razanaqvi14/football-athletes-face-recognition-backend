{
 "cells": [
  {
   "cell_type": "code",
   "execution_count": 1,
   "id": "dc406e6c-766a-434b-9472-99e3aee6f4c1",
   "metadata": {},
   "outputs": [],
   "source": [
    "import numpy as np\n",
    "import os\n",
    "import shutil\n",
    "import cv2\n",
    "import matplotlib.pyplot as plt"
   ]
  },
  {
   "cell_type": "code",
   "execution_count": 2,
   "id": "bb7a8c99-503c-4bfa-89fc-3a4e66a2b68e",
   "metadata": {},
   "outputs": [],
   "source": [
    "data_folder_path = \"./data/Original Data/\""
   ]
  },
  {
   "cell_type": "code",
   "execution_count": 3,
   "id": "a4ae8843-7d25-447f-ae5a-31a45e8104de",
   "metadata": {},
   "outputs": [],
   "source": [
    "def get_image_path(data_folder_path, index_of_folder, index_of_image):\n",
    "    folder_path = os.path.join(data_folder_path, os.listdir(data_folder_path)[index_of_folder])\n",
    "    image_name = os.listdir(folder_path)[index_of_image]\n",
    "    image_path = os.path.join(folder_path, image_name)\n",
    "    return image_path"
   ]
  },
  {
   "cell_type": "code",
   "execution_count": 4,
   "id": "041525ec-f0a1-434d-b96b-f98512c1fb50",
   "metadata": {},
   "outputs": [],
   "source": [
    "def load_and_display_image(data_folder_path, index_of_folder, index_of_image):\n",
    "    image_path = get_image_path(data_folder_path, index_of_folder, index_of_image)\n",
    "    \n",
    "    img = cv2.imread(image_path)\n",
    "    \n",
    "    img_rgb = cv2.cvtColor(img, cv2.COLOR_BGR2RGB)\n",
    "    \n",
    "    plt.imshow(img_rgb)\n",
    "    plt.axis('off')\n",
    "    plt.show()"
   ]
  },
  {
   "cell_type": "code",
   "execution_count": 5,
   "id": "5a2ca7fe-93f4-4df2-aa21-1e976acf76e3",
   "metadata": {},
   "outputs": [],
   "source": [
    "face_cascade = cv2.CascadeClassifier(cv2.data.haarcascades + 'haarcascade_frontalface_default.xml')\n",
    "eye_cascade = cv2.CascadeClassifier(cv2.data.haarcascades + 'haarcascade_eye.xml')"
   ]
  },
  {
   "cell_type": "code",
   "execution_count": 6,
   "id": "e6faaac9-3ec1-4c0b-83f9-096f5c36f393",
   "metadata": {},
   "outputs": [],
   "source": [
    "def crop_photo(image_path):\n",
    "    image = cv2.imread(image_path)\n",
    "    faces = face_cascade.detectMultiScale(image)\n",
    "    for (x, y, w, h) in faces:\n",
    "        roi_color = image[y:y+h, x:x+w]\n",
    "        eyes = eye_cascade.detectMultiScale(roi_color)\n",
    "        if len(eyes) >= 2:\n",
    "            return roi_color"
   ]
  },
  {
   "cell_type": "code",
   "execution_count": 7,
   "id": "fdea9c62-be0c-4a06-a9df-4420e0be2f1c",
   "metadata": {},
   "outputs": [],
   "source": [
    "footballer_names = {'Cristiano Ronaldo': 0,\n",
    " 'Erling Haaland': 1,\n",
    " 'Kylian Mbappe': 2,\n",
    " 'Lionel Messi': 3,\n",
    " 'Neymar Jr': 4}"
   ]
  },
  {
   "cell_type": "code",
   "execution_count": 8,
   "id": "c7debff1-72cd-47af-b2e0-6106aed27b0b",
   "metadata": {
    "scrolled": true
   },
   "outputs": [],
   "source": [
    "cleaned_data_path = \"./Data/Cleaned Data\"\n",
    "\n",
    "if os.path.exists(cleaned_data_path):\n",
    "    shutil.rmtree(cleaned_data_path)\n",
    "os.mkdir(cleaned_data_path)\n",
    "for footballer_name in footballer_names:\n",
    "    os.mkdir(cleaned_data_path + \"/\" + footballer_name)\n",
    "\n",
    "for name in footballer_names:\n",
    "    print(f\"generating cropped images of {name}\")\n",
    "    count = 1\n",
    "    for image_path in os.scandir(\"./data/Original Data/\" + name):\n",
    "        roi_color = crop_photo(image_path.path)\n",
    "        if roi_color is not None:\n",
    "            source_file = str(count) + \".png\"\n",
    "            \n",
    "            cv2.imwrite(source_file, roi_color)\n",
    "            \n",
    "            destination_file = os.path.join(\"./data/Cleaned Data/\", name)\n",
    "            \n",
    "            shutil.copy(source_file, destination_file)\n",
    "            count += 1\n",
    "    print(f\"total {count} images generated of {name}\")\n",
    "    print()"
   ]
  },
  {
   "cell_type": "code",
   "execution_count": 4,
   "id": "477e2f00-9ef5-4f79-8038-fc9fe93c9b5a",
   "metadata": {},
   "outputs": [
    {
     "name": "stdout",
     "output_type": "stream",
     "text": [
      "There are total 100 cleaned images in the training folder of Cristiano Ronaldo\n",
      "There are total 100 cleaned images in the training folder of Erling Haaland\n",
      "There are total 100 cleaned images in the training folder of Kylian Mbappe\n",
      "There are total 100 cleaned images in the training folder of Lionel Messi\n",
      "There are total 100 cleaned images in the training folder of Neymar Jr\n"
     ]
    }
   ],
   "source": [
    "for footballer_name in os.scandir(\"./Data/Cleaned Data/train\"):\n",
    "    count = 0\n",
    "    for image_path in os.scandir(footballer_name.path):\n",
    "        count += 1\n",
    "    print(f\"There are total {count} cleaned images in the training folder of {footballer_name.name}\")"
   ]
  },
  {
   "cell_type": "code",
   "execution_count": 5,
   "id": "17dcdc4e-4bb3-4f9c-be72-c53ab47d5fc6",
   "metadata": {},
   "outputs": [
    {
     "name": "stdout",
     "output_type": "stream",
     "text": [
      "There are total 119 cleaned images in the validation folder of Cristiano Ronaldo\n",
      "There are total 3 cleaned images in the validation folder of Erling Haaland\n",
      "There are total 17 cleaned images in the validation folder of Kylian Mbappe\n",
      "There are total 1 cleaned images in the validation folder of Lionel Messi\n",
      "There are total 59 cleaned images in the validation folder of Neymar Jr\n"
     ]
    }
   ],
   "source": [
    "for footballer_name in os.scandir(\"./Data/Cleaned Data/val\"):\n",
    "    count = 0\n",
    "    for image_path in os.scandir(footballer_name.path):\n",
    "        count += 1\n",
    "    print(f\"There are total {count} cleaned images in the validation folder of {footballer_name.name}\")"
   ]
  },
  {
   "cell_type": "code",
   "execution_count": null,
   "id": "f62d6b68-a331-484b-a296-a5bf94494d3e",
   "metadata": {},
   "outputs": [],
   "source": []
  }
 ],
 "metadata": {
  "kernelspec": {
   "display_name": "Python 3 (ipykernel)",
   "language": "python",
   "name": "python3"
  },
  "language_info": {
   "codemirror_mode": {
    "name": "ipython",
    "version": 3
   },
   "file_extension": ".py",
   "mimetype": "text/x-python",
   "name": "python",
   "nbconvert_exporter": "python",
   "pygments_lexer": "ipython3",
   "version": "3.12.6"
  }
 },
 "nbformat": 4,
 "nbformat_minor": 5
}
