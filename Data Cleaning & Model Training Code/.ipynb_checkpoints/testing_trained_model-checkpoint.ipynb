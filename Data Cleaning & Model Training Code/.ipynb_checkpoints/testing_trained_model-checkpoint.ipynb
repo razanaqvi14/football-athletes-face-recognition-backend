{
 "cells": [
  {
   "cell_type": "code",
   "execution_count": 1,
   "id": "017ccc80-25ca-4969-9dfb-b6e36e6ad346",
   "metadata": {},
   "outputs": [],
   "source": [
    "import torch\n",
    "from torchvision import models\n",
    "import torch.nn as nn"
   ]
  },
  {
   "cell_type": "code",
   "execution_count": 2,
   "id": "d58251a8-b31c-4ba5-86e8-4651c18f0a62",
   "metadata": {},
   "outputs": [],
   "source": [
    "device = torch.device(\"cuda\" if torch.cuda.is_available() else \"cpu\")"
   ]
  },
  {
   "cell_type": "code",
   "execution_count": 3,
   "id": "a56773fb-7f43-4485-8514-1cce42e2f503",
   "metadata": {},
   "outputs": [],
   "source": [
    "classes = ['Cristiano Ronaldo',\n",
    "           'Erling Haaland',\n",
    "           'Kylian Mbappe',\n",
    "           'Lionel Messi',\n",
    "           'Neymar Jr']"
   ]
  },
  {
   "cell_type": "code",
   "execution_count": 4,
   "id": "2871883b-84b6-405d-b86a-8b92f2a8bfbc",
   "metadata": {},
   "outputs": [],
   "source": [
    "def load_model(weights_path):\n",
    "    model = models.resnet18(weights = \"IMAGENET1K_V1\")\n",
    "    size_of_last_layer = model.fc.in_features\n",
    "    model.fc = nn.Linear(size_of_last_layer, len(classes))\n",
    "    model.load_state_dict(torch.load(weights_path))\n",
    "    model = model.to(device)\n",
    "    model.eval()\n",
    "    return model"
   ]
  },
  {
   "cell_type": "code",
   "execution_count": 5,
   "id": "01d6eb22-9341-4920-986f-f59f7dcc9ea9",
   "metadata": {},
   "outputs": [],
   "source": [
    "model = load_model(\"../models/TL_CNN_model_weights.pth\")"
   ]
  },
  {
   "cell_type": "code",
   "execution_count": null,
   "id": "adfba256-ea24-4261-a41a-39838e92ea1b",
   "metadata": {},
   "outputs": [],
   "source": [
    "def predict(model, image_path):\n",
    "    "
   ]
  }
 ],
 "metadata": {
  "kernelspec": {
   "display_name": "Python 3 (ipykernel)",
   "language": "python",
   "name": "python3"
  },
  "language_info": {
   "codemirror_mode": {
    "name": "ipython",
    "version": 3
   },
   "file_extension": ".py",
   "mimetype": "text/x-python",
   "name": "python",
   "nbconvert_exporter": "python",
   "pygments_lexer": "ipython3",
   "version": "3.12.6"
  }
 },
 "nbformat": 4,
 "nbformat_minor": 5
}
